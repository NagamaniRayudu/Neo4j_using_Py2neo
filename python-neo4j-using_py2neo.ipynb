{
 "cells": [
  {
   "cell_type": "markdown",
   "metadata": {},
   "source": [
    "### This tutorial will show how to interact with neo4j database using py2neo\n",
    "1. It shows how to create a node and relationship using py2neo\n",
    "2. How to query the data"
   ]
  },
  {
   "cell_type": "code",
   "execution_count": 1,
   "metadata": {},
   "outputs": [],
   "source": [
    "from py2neo import Graph, Node, Relationship"
   ]
  },
  {
   "cell_type": "code",
   "execution_count": 2,
   "metadata": {},
   "outputs": [],
   "source": [
    "#Graph instance, pass the credentials for you graph\n",
    "graph=Graph(password=\"test123\")"
   ]
  },
  {
   "cell_type": "code",
   "execution_count": 3,
   "metadata": {},
   "outputs": [],
   "source": [
    "#To create Node using py2neo. Here creating 2 nodes and a relationship\n",
    "alice = Node(\"Person\", name=\"Alice\")\n",
    "bob = Node(\"Person\", name=\"Bob\")\n",
    "alice_knows_bob = Relationship(alice, \"KNOWS\", bob)\n",
    "graph.create(alice_knows_bob)"
   ]
  },
  {
   "cell_type": "code",
   "execution_count": 4,
   "metadata": {},
   "outputs": [],
   "source": [
    "#To set the properties for the exising nodes\n",
    "alice['age'] = 34\n",
    "bob['age'] = 44"
   ]
  },
  {
   "cell_type": "code",
   "execution_count": 5,
   "metadata": {},
   "outputs": [],
   "source": [
    "#To update the graph with the new nodes and relationships created above.\n",
    "graph.push(alice)\n",
    "graph.push(bob)"
   ]
  },
  {
   "cell_type": "code",
   "execution_count": 6,
   "metadata": {},
   "outputs": [
    {
     "data": {
      "text/html": [
       "<table><tr><th>a.name</th><th>a.age</th></tr><tr><td style=\"text-align:left\">Alice</td><td style=\"text-align:right\">34</td></tr><tr><td style=\"text-align:left\">Bob</td><td style=\"text-align:right\">44</td></tr></table>"
      ],
      "text/plain": [
       " a.name | a.age \n",
       "--------|-------\n",
       " Alice  |    34 \n",
       " Bob    |    44 "
      ]
     },
     "execution_count": 6,
     "metadata": {},
     "output_type": "execute_result"
    }
   ],
   "source": [
    "# To run the query. Below query fetches name and age properties of nodes with the label Person.\n",
    "graph.run(\"MATCH (a:Person) \\\n",
    "          RETURN a.name, a.age\").to_table()"
   ]
  },
  {
   "cell_type": "code",
   "execution_count": 7,
   "metadata": {},
   "outputs": [
    {
     "data": {
      "text/plain": [
       "2"
      ]
     },
     "execution_count": 7,
     "metadata": {},
     "output_type": "execute_result"
    }
   ],
   "source": [
    "#This will evaluate and retun the no of nodes that are matching the label Person\n",
    "graph.evaluate(\"MATCH (a:Person) RETURN count(a)\")"
   ]
  },
  {
   "cell_type": "code",
   "execution_count": 8,
   "metadata": {},
   "outputs": [
    {
     "data": {
      "text/plain": [
       "<py2neo.database.Cursor at 0x19958490940>"
      ]
     },
     "execution_count": 8,
     "metadata": {},
     "output_type": "execute_result"
    }
   ],
   "source": [
    "#to delete all nodes\n",
    "graph.run(\"MATCH (a) DETACH DELETE a\")"
   ]
  },
  {
   "cell_type": "code",
   "execution_count": 9,
   "metadata": {},
   "outputs": [
    {
     "data": {
      "text/plain": [
       "[]"
      ]
     },
     "execution_count": 9,
     "metadata": {},
     "output_type": "execute_result"
    }
   ],
   "source": [
    "# To run the query. No nodes returned as we deleted them in the prev step.\n",
    "list(graph.run(\"MATCH (n) RETURN n\"))"
   ]
  },
  {
   "cell_type": "markdown",
   "metadata": {},
   "source": [
    "### Lets load movie graph that comes default with Neo4j using Neo4j browser and see how to query/update the data"
   ]
  },
  {
   "cell_type": "code",
   "execution_count": 10,
   "metadata": {},
   "outputs": [
    {
     "data": {
      "text/plain": [
       "[('Al Pacino', 1940),\n",
       " ('Taylor Hackford', 1944),\n",
       " ('Tom Cruise', 1962),\n",
       " ('Jack Nicholson', 1937),\n",
       " ('Demi Moore', 1962),\n",
       " ('Kevin Bacon', 1958),\n",
       " ('Kiefer Sutherland', 1966),\n",
       " ('Noah Wyle', 1971),\n",
       " ('Cuba Gooding Jr.', 1968),\n",
       " ('Kevin Pollak', 1957),\n",
       " ('J.T. Walsh', 1943),\n",
       " ('James Marshall', 1967),\n",
       " ('Christopher Guest', 1948),\n",
       " ('Rob Reiner', 1947),\n",
       " ('Aaron Sorkin', 1961),\n",
       " ('Kelly McGillis', 1957),\n",
       " ('Val Kilmer', 1959),\n",
       " ('Anthony Edwards', 1962),\n",
       " ('Tom Skerritt', 1933),\n",
       " ('Meg Ryan', 1961),\n",
       " ('Tony Scott', 1944),\n",
       " ('Jim Cash', 1941),\n",
       " ('Renee Zellweger', 1969),\n",
       " ('Kelly Preston', 1962),\n",
       " (\"Jerry O'Connell\", 1974),\n",
       " ('Jay Mohr', 1970),\n",
       " ('Bonnie Hunt', 1961),\n",
       " ('Regina King', 1971),\n",
       " ('Jonathan Lipnicki', 1996),\n",
       " ('Cameron Crowe', 1957),\n",
       " ('River Phoenix', 1970),\n",
       " ('Corey Feldman', 1971),\n",
       " ('Wil Wheaton', 1972),\n",
       " ('John Cusack', 1966),\n",
       " ('Marshall Bell', 1942),\n",
       " ('Helen Hunt', 1963),\n",
       " ('Greg Kinnear', 1963),\n",
       " ('James L. Brooks', 1940),\n",
       " ('Annabella Sciorra', 1960),\n",
       " ('Max von Sydow', 1929),\n",
       " ('Werner Herzog', 1942),\n",
       " ('Robin Williams', 1951),\n",
       " ('Vincent Ward', 1956),\n",
       " ('Ethan Hawke', 1970),\n",
       " ('Rick Yune', 1971),\n",
       " ('James Cromwell', 1940),\n",
       " ('Scott Hicks', 1953),\n",
       " ('Parker Posey', 1968),\n",
       " ('Dave Chappelle', 1973),\n",
       " ('Steve Zahn', 1967),\n",
       " ('Tom Hanks', 1956),\n",
       " ('Nora Ephron', 1941),\n",
       " ('Rita Wilson', 1956),\n",
       " ('Bill Pullman', 1953),\n",
       " ('Victor Garber', 1949),\n",
       " (\"Rosie O'Donnell\", 1962),\n",
       " ('John Patrick Stanley', 1950),\n",
       " ('Nathan Lane', 1956),\n",
       " ('Billy Crystal', 1948),\n",
       " ('Carrie Fisher', 1956),\n",
       " ('Bruno Kirby', 1949),\n",
       " ('Liv Tyler', 1977),\n",
       " ('Brooke Langton', 1970),\n",
       " ('Gene Hackman', 1930),\n",
       " ('Orlando Jones', 1968),\n",
       " ('Howard Deutch', 1950),\n",
       " ('Christian Bale', 1974),\n",
       " ('Zach Grenier', 1954),\n",
       " ('Mike Nichols', 1931),\n",
       " ('Richard Harris', 1930),\n",
       " ('Clint Eastwood', 1930),\n",
       " ('Takeshi Kitano', 1947),\n",
       " ('Dina Meyer', 1968),\n",
       " ('Ice-T', 1958),\n",
       " ('Robert Longo', 1953),\n",
       " ('Halle Berry', 1966),\n",
       " ('Jim Broadbent', 1949),\n",
       " ('Tom Tykwer', 1965),\n",
       " ('David Mitchell', 1969),\n",
       " ('Stefan Arndt', 1961),\n",
       " ('Ian McKellen', 1939),\n",
       " ('Audrey Tautou', 1976),\n",
       " ('Paul Bettany', 1971),\n",
       " ('Ron Howard', 1954),\n",
       " ('Natalie Portman', 1981),\n",
       " ('Stephen Rea', 1946),\n",
       " ('John Hurt', 1940),\n",
       " ('Ben Miles', 1967),\n",
       " ('Emile Hirsch', 1985),\n",
       " ('John Goodman', 1960),\n",
       " ('Susan Sarandon', 1946),\n",
       " ('Matthew Fox', 1966),\n",
       " ('Christina Ricci', 1980),\n",
       " ('Rain', 1982),\n",
       " ('Naomie Harris', None),\n",
       " ('Michael Clarke Duncan', 1957),\n",
       " ('David Morse', 1953),\n",
       " ('Sam Rockwell', 1968),\n",
       " ('Gary Sinise', 1955),\n",
       " ('Patricia Clarkson', 1959),\n",
       " ('Frank Darabont', 1959),\n",
       " ('Frank Langella', 1938),\n",
       " ('Michael Sheen', 1969),\n",
       " ('Oliver Platt', 1960),\n",
       " ('Danny DeVito', 1944),\n",
       " ('John C. Reilly', 1965),\n",
       " ('Ed Harris', 1950),\n",
       " ('Bill Paxton', 1955),\n",
       " ('Philip Seymour Hoffman', 1967),\n",
       " ('Jan de Bont', 1943),\n",
       " ('Robert Zemeckis', 1951),\n",
       " ('Milos Forman', 1932),\n",
       " ('Diane Keaton', 1946),\n",
       " ('Nancy Meyers', 1949),\n",
       " ('Chris Columbus', 1958),\n",
       " ('Julia Roberts', 1967),\n",
       " ('Madonna', 1954),\n",
       " ('Geena Davis', 1956),\n",
       " ('Lori Petty', 1963),\n",
       " ('Penny Marshall', 1943),\n",
       " ('Paul Blythe', None),\n",
       " ('Angela Scope', None),\n",
       " ('Jessica Thompson', None),\n",
       " ('James Thompson', None),\n",
       " ('Keanu Reeves', 1964),\n",
       " ('Carrie-Anne Moss', 1967),\n",
       " ('Laurence Fishburne', 1961),\n",
       " ('Hugo Weaving', 1960),\n",
       " ('Lilly Wachowski', 1967),\n",
       " ('Lana Wachowski', 1965),\n",
       " ('Joel Silver', 1952),\n",
       " ('Emil Eifrem', 1978),\n",
       " ('Charlize Theron', 1975)]"
      ]
     },
     "execution_count": 10,
     "metadata": {},
     "output_type": "execute_result"
    }
   ],
   "source": [
    "## In the below code, we are using nodes.match to match the Person label and return the results in pythonic way \n",
    "# It will return the name and born properties of all the nodes which are matching. \n",
    "[(a[\"name\"], a[\"born\"]) for a in graph.nodes.match(\"Person\")]"
   ]
  },
  {
   "cell_type": "code",
   "execution_count": 11,
   "metadata": {},
   "outputs": [
    {
     "data": {
      "text/plain": [
       "[(Bonnie Hunt)-[:ACTED_IN {roles: ['Laurel Boyd']}]->(_42),\n",
       " (Bonnie Hunt)-[:ACTED_IN {roles: ['Jan Edgecomb']}]->(_135)]"
      ]
     },
     "execution_count": 11,
     "metadata": {},
     "output_type": "execute_result"
    }
   ],
   "source": [
    "## can save the resulting node from the match and use it next to fetch the relatioinships.\n",
    "##It will first find the node that matches the name \"Bonnie Hunt\" and saves it variable bonnie\n",
    "## It is then used to match the relationships for Bonnie Hunt for the relation - ACTED_IN\n",
    "bonnie = graph.nodes.match(\"Person\", name=\"Bonnie Hunt\").first()\n",
    "list(graph.relationships.match((bonnie, None), \"ACTED_IN\"))"
   ]
  },
  {
   "cell_type": "code",
   "execution_count": 12,
   "metadata": {},
   "outputs": [
    {
     "data": {
      "text/plain": [
       "(Bonnie Hunt)-[:ACTED_IN {}]->(_178)"
      ]
     },
     "execution_count": 12,
     "metadata": {},
     "output_type": "execute_result"
    }
   ],
   "source": [
    "#The below code shows how to create a Node and Relationship\n",
    "jumanji = Node(\"Movie\", \"Jumanji\")\n",
    "ACTED_IN = Relationship.type(\"ACTED_IN\")\n",
    "\n",
    "graph.create(ACTED_IN(bonnie, jumanji))\n",
    "\n",
    "graph.match((bonnie, jumanji)).first()"
   ]
  },
  {
   "cell_type": "code",
   "execution_count": 13,
   "metadata": {},
   "outputs": [
    {
     "data": {
      "text/html": [
       "<div>\n",
       "<style scoped>\n",
       "    .dataframe tbody tr th:only-of-type {\n",
       "        vertical-align: middle;\n",
       "    }\n",
       "\n",
       "    .dataframe tbody tr th {\n",
       "        vertical-align: top;\n",
       "    }\n",
       "\n",
       "    .dataframe thead th {\n",
       "        text-align: right;\n",
       "    }\n",
       "</style>\n",
       "<table border=\"1\" class=\"dataframe\">\n",
       "  <thead>\n",
       "    <tr style=\"text-align: right;\">\n",
       "      <th></th>\n",
       "      <th>m.tagline</th>\n",
       "      <th>m.title</th>\n",
       "    </tr>\n",
       "  </thead>\n",
       "  <tbody>\n",
       "    <tr>\n",
       "      <th>0</th>\n",
       "      <td>In the heart of the nation's capital, in a cou...</td>\n",
       "      <td>A Few Good Men</td>\n",
       "    </tr>\n",
       "    <tr>\n",
       "      <th>1</th>\n",
       "      <td>I feel the need, the need for speed.</td>\n",
       "      <td>Top Gun</td>\n",
       "    </tr>\n",
       "    <tr>\n",
       "      <th>2</th>\n",
       "      <td>The rest of his life begins now.</td>\n",
       "      <td>Jerry Maguire</td>\n",
       "    </tr>\n",
       "    <tr>\n",
       "      <th>3</th>\n",
       "      <td>For some, it's the last real taste of innocenc...</td>\n",
       "      <td>Stand By Me</td>\n",
       "    </tr>\n",
       "    <tr>\n",
       "      <th>4</th>\n",
       "      <td>A comedy from the heart that goes for the throat.</td>\n",
       "      <td>As Good as It Gets</td>\n",
       "    </tr>\n",
       "  </tbody>\n",
       "</table>\n",
       "</div>"
      ],
      "text/plain": [
       "                                           m.tagline             m.title\n",
       "0  In the heart of the nation's capital, in a cou...      A Few Good Men\n",
       "1               I feel the need, the need for speed.             Top Gun\n",
       "2                   The rest of his life begins now.       Jerry Maguire\n",
       "3  For some, it's the last real taste of innocenc...         Stand By Me\n",
       "4  A comedy from the heart that goes for the throat.  As Good as It Gets"
      ]
     },
     "execution_count": 13,
     "metadata": {},
     "output_type": "execute_result"
    }
   ],
   "source": [
    "#The below query will fetch 5 movie titles and taglines and displays in dataframe \n",
    "graph.run(\"MATCH (m:Movie) RETURN m.title, m.tagline LIMIT 5\").to_data_frame()"
   ]
  },
  {
   "cell_type": "markdown",
   "metadata": {},
   "source": [
    "#### Another way is to use Object-Graph Mapping API of py2neo."
   ]
  },
  {
   "cell_type": "code",
   "execution_count": 14,
   "metadata": {},
   "outputs": [
    {
     "data": {
      "text/plain": [
       "[('Al Pacino', 1940),\n",
       " ('Taylor Hackford', 1944),\n",
       " ('Tom Cruise', 1962),\n",
       " ('Jack Nicholson', 1937),\n",
       " ('Demi Moore', 1962),\n",
       " ('Kevin Bacon', 1958),\n",
       " ('Kiefer Sutherland', 1966),\n",
       " ('Noah Wyle', 1971),\n",
       " ('Cuba Gooding Jr.', 1968),\n",
       " ('Kevin Pollak', 1957),\n",
       " ('J.T. Walsh', 1943),\n",
       " ('James Marshall', 1967),\n",
       " ('Christopher Guest', 1948),\n",
       " ('Rob Reiner', 1947),\n",
       " ('Aaron Sorkin', 1961),\n",
       " ('Kelly McGillis', 1957),\n",
       " ('Val Kilmer', 1959),\n",
       " ('Anthony Edwards', 1962),\n",
       " ('Tom Skerritt', 1933),\n",
       " ('Meg Ryan', 1961),\n",
       " ('Tony Scott', 1944),\n",
       " ('Jim Cash', 1941),\n",
       " ('Renee Zellweger', 1969),\n",
       " ('Kelly Preston', 1962),\n",
       " (\"Jerry O'Connell\", 1974),\n",
       " ('Jay Mohr', 1970),\n",
       " ('Bonnie Hunt', 1961),\n",
       " ('Regina King', 1971),\n",
       " ('Jonathan Lipnicki', 1996),\n",
       " ('Cameron Crowe', 1957),\n",
       " ('River Phoenix', 1970),\n",
       " ('Corey Feldman', 1971),\n",
       " ('Wil Wheaton', 1972),\n",
       " ('John Cusack', 1966),\n",
       " ('Marshall Bell', 1942),\n",
       " ('Helen Hunt', 1963),\n",
       " ('Greg Kinnear', 1963),\n",
       " ('James L. Brooks', 1940),\n",
       " ('Annabella Sciorra', 1960),\n",
       " ('Max von Sydow', 1929),\n",
       " ('Werner Herzog', 1942),\n",
       " ('Robin Williams', 1951),\n",
       " ('Vincent Ward', 1956),\n",
       " ('Ethan Hawke', 1970),\n",
       " ('Rick Yune', 1971),\n",
       " ('James Cromwell', 1940),\n",
       " ('Scott Hicks', 1953),\n",
       " ('Parker Posey', 1968),\n",
       " ('Dave Chappelle', 1973),\n",
       " ('Steve Zahn', 1967),\n",
       " ('Tom Hanks', 1956),\n",
       " ('Nora Ephron', 1941),\n",
       " ('Rita Wilson', 1956),\n",
       " ('Bill Pullman', 1953),\n",
       " ('Victor Garber', 1949),\n",
       " (\"Rosie O'Donnell\", 1962),\n",
       " ('John Patrick Stanley', 1950),\n",
       " ('Nathan Lane', 1956),\n",
       " ('Billy Crystal', 1948),\n",
       " ('Carrie Fisher', 1956),\n",
       " ('Bruno Kirby', 1949),\n",
       " ('Liv Tyler', 1977),\n",
       " ('Brooke Langton', 1970),\n",
       " ('Gene Hackman', 1930),\n",
       " ('Orlando Jones', 1968),\n",
       " ('Howard Deutch', 1950),\n",
       " ('Christian Bale', 1974),\n",
       " ('Zach Grenier', 1954),\n",
       " ('Mike Nichols', 1931),\n",
       " ('Richard Harris', 1930),\n",
       " ('Clint Eastwood', 1930),\n",
       " ('Takeshi Kitano', 1947),\n",
       " ('Dina Meyer', 1968),\n",
       " ('Ice-T', 1958),\n",
       " ('Robert Longo', 1953),\n",
       " ('Halle Berry', 1966),\n",
       " ('Jim Broadbent', 1949),\n",
       " ('Tom Tykwer', 1965),\n",
       " ('David Mitchell', 1969),\n",
       " ('Stefan Arndt', 1961),\n",
       " ('Ian McKellen', 1939),\n",
       " ('Audrey Tautou', 1976),\n",
       " ('Paul Bettany', 1971),\n",
       " ('Ron Howard', 1954),\n",
       " ('Natalie Portman', 1981),\n",
       " ('Stephen Rea', 1946),\n",
       " ('John Hurt', 1940),\n",
       " ('Ben Miles', 1967),\n",
       " ('Emile Hirsch', 1985),\n",
       " ('John Goodman', 1960),\n",
       " ('Susan Sarandon', 1946),\n",
       " ('Matthew Fox', 1966),\n",
       " ('Christina Ricci', 1980),\n",
       " ('Rain', 1982),\n",
       " ('Naomie Harris', None),\n",
       " ('Michael Clarke Duncan', 1957),\n",
       " ('David Morse', 1953),\n",
       " ('Sam Rockwell', 1968),\n",
       " ('Gary Sinise', 1955),\n",
       " ('Patricia Clarkson', 1959),\n",
       " ('Frank Darabont', 1959),\n",
       " ('Frank Langella', 1938),\n",
       " ('Michael Sheen', 1969),\n",
       " ('Oliver Platt', 1960),\n",
       " ('Danny DeVito', 1944),\n",
       " ('John C. Reilly', 1965),\n",
       " ('Ed Harris', 1950),\n",
       " ('Bill Paxton', 1955),\n",
       " ('Philip Seymour Hoffman', 1967),\n",
       " ('Jan de Bont', 1943),\n",
       " ('Robert Zemeckis', 1951),\n",
       " ('Milos Forman', 1932),\n",
       " ('Diane Keaton', 1946),\n",
       " ('Nancy Meyers', 1949),\n",
       " ('Chris Columbus', 1958),\n",
       " ('Julia Roberts', 1967),\n",
       " ('Madonna', 1954),\n",
       " ('Geena Davis', 1956),\n",
       " ('Lori Petty', 1963),\n",
       " ('Penny Marshall', 1943),\n",
       " ('Paul Blythe', None),\n",
       " ('Angela Scope', None),\n",
       " ('Jessica Thompson', None),\n",
       " ('James Thompson', None),\n",
       " ('Keanu Reeves', 1964),\n",
       " ('Carrie-Anne Moss', 1967),\n",
       " ('Laurence Fishburne', 1961),\n",
       " ('Hugo Weaving', 1960),\n",
       " ('Lilly Wachowski', 1967),\n",
       " ('Lana Wachowski', 1965),\n",
       " ('Joel Silver', 1952),\n",
       " ('Emil Eifrem', 1978),\n",
       " ('Charlize Theron', 1975)]"
      ]
     },
     "execution_count": 14,
     "metadata": {},
     "output_type": "execute_result"
    }
   ],
   "source": [
    "## below code shows how to leverage this API to query the data\n",
    "from py2neo.ogm import GraphObject, Property\n",
    "\n",
    "class Person(GraphObject):\n",
    "    name = Property()\n",
    "    born = Property()\n",
    "    \n",
    "[(a.name, a.born) for a in Person.match(graph)]"
   ]
  },
  {
   "cell_type": "code",
   "execution_count": 15,
   "metadata": {},
   "outputs": [
    {
     "data": {
      "text/plain": [
       "(_211:Person {born: 1964, name: 'Keanu Reeves'})"
      ]
     },
     "execution_count": 15,
     "metadata": {},
     "output_type": "execute_result"
    }
   ],
   "source": [
    "#To return the first matching result\n",
    "graph.nodes.match(\"Person\", name=\"Keanu Reeves\").first()"
   ]
  },
  {
   "cell_type": "markdown",
   "metadata": {},
   "source": [
    "### Leveraging py2neo. matching module. It provides functionality to match nodes and relationships according to certain criteria"
   ]
  },
  {
   "cell_type": "code",
   "execution_count": 16,
   "metadata": {},
   "outputs": [],
   "source": [
    "from py2neo import NodeMatcher\n",
    "\n",
    "matcher = NodeMatcher(graph)"
   ]
  },
  {
   "cell_type": "code",
   "execution_count": 17,
   "metadata": {},
   "outputs": [
    {
     "data": {
      "text/plain": [
       "(_211:Person {born: 1964, name: 'Keanu Reeves'})"
      ]
     },
     "execution_count": 17,
     "metadata": {},
     "output_type": "execute_result"
    }
   ],
   "source": [
    "#Querying using Matching module\n",
    "matcher.match(\"Person\", name=\"Keanu Reeves\").first()"
   ]
  },
  {
   "cell_type": "code",
   "execution_count": 18,
   "metadata": {},
   "outputs": [
    {
     "data": {
      "text/plain": [
       "[(_47:Person {born: 1961, name: 'Bonnie Hunt'}),\n",
       " (_80:Person {born: 1953, name: 'Bill Pullman'}),\n",
       " (_87:Person {born: 1948, name: 'Billy Crystal'}),\n",
       " (_89:Person {born: 1949, name: 'Bruno Kirby'}),\n",
       " (_93:Person {born: 1970, name: 'Brooke Langton'}),\n",
       " (_125:Person {born: 1967, name: 'Ben Miles'}),\n",
       " (_151:Person {born: 1955, name: 'Bill Paxton'})]"
      ]
     },
     "execution_count": 18,
     "metadata": {},
     "output_type": "execute_result"
    }
   ],
   "source": [
    "#to check for partial match. The below query will find all the nodes with names start with 'B'\n",
    "list(matcher.match(\"Person\").where(\"_.name =~ 'B.*'\" ))"
   ]
  },
  {
   "cell_type": "code",
   "execution_count": 19,
   "metadata": {},
   "outputs": [
    {
     "data": {
      "text/plain": [
       "[(_125:Person {born: 1967, name: 'Ben Miles'}),\n",
       " (_151:Person {born: 1955, name: 'Bill Paxton'}),\n",
       " (_80:Person {born: 1953, name: 'Bill Pullman'})]"
      ]
     },
     "execution_count": 19,
     "metadata": {},
     "output_type": "execute_result"
    }
   ],
   "source": [
    "#can use order by and limit \n",
    "list(matcher.match(\"Person\").where(\"_.name =~ 'B.*'\" ).order_by(\"_.name\").limit(3))"
   ]
  },
  {
   "cell_type": "code",
   "execution_count": 20,
   "metadata": {},
   "outputs": [
    {
     "data": {
      "text/plain": [
       "7"
      ]
     },
     "execution_count": 20,
     "metadata": {},
     "output_type": "execute_result"
    }
   ],
   "source": [
    "#to count the no of matches\n",
    "len(matcher.match(\"Person\").where(\"_.name =~ 'B.*'\" ))"
   ]
  },
  {
   "cell_type": "code",
   "execution_count": null,
   "metadata": {},
   "outputs": [],
   "source": []
  }
 ],
 "metadata": {
  "kernelspec": {
   "display_name": "Python 3",
   "language": "python",
   "name": "python3"
  },
  "language_info": {
   "codemirror_mode": {
    "name": "ipython",
    "version": 3
   },
   "file_extension": ".py",
   "mimetype": "text/x-python",
   "name": "python",
   "nbconvert_exporter": "python",
   "pygments_lexer": "ipython3",
   "version": "3.6.8"
  }
 },
 "nbformat": 4,
 "nbformat_minor": 2
}
